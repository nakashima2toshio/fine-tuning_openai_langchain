{
 "cells": [
  {
   "cell_type": "markdown",
   "source": [
    "Spider\n",
    "クロール対象のサイトへのリクエスト、レスポンスのパース処理を記述します\n",
    "どのようにサイトを辿って、ページの内容をどうパースするかのロジックが Spider に書かれます\n",
    "\n",
    "Items\n",
    "クロール対象のデータから抽出したいデータ構造を記述するモデルのようなものです\n",
    "目的に応じて自由な構造を定義できます\n",
    "Items は Spider で生成され Pipeline に渡されます\n",
    "\n",
    "Pipeline\n",
    "Spider より渡された Items に対する処理を記述します\n",
    "DB への保存、ファイル出力など目的に応じて自由に処理を記述できます"
   ],
   "metadata": {
    "collapsed": false
   },
   "id": "3201914c09655465"
  },
  {
   "cell_type": "code",
   "outputs": [],
   "source": [
    "from bs4 import BeautifulSoup\n",
    "\n",
    "# ファイルパス\n",
    "file_path = '../data/html/slider.html'\n",
    "\n",
    "# ファイルからHTMLを読み込み\n",
    "with open(file_path, 'r', encoding='utf-8') as file:\n",
    "    html_content = file.read()\n",
    "\n",
    "# 読み込んだHTMLをBeautiful Soupで解析\n",
    "soup = BeautifulSoup(html_content, 'html.parser')\n",
    "\n",
    "# `<code class=\"code language-python\">`タグに囲まれたブロックを抽出\n",
    "code_tabs = soup.find('div', class_='codeblock')\n",
    "tab_names = code_tabs.get('id')\n",
    "code_blocks = soup.find_all('code', class_='code language-python')\n",
    "\n",
    "# 抽出したブロックを表示\n",
    "# for code_tab in code_tabs:\n",
    "#     print(code_tab.text.strip())  # `.strip()`を追加して余分な空白を削除\n",
    "# for i, tab_name, code_block in tab_names, enumerate(code_blocks, start=1):\n",
    "for i, (tab_name, code_block) in enumerate(zip(tab_names, code_blocks), start=1):\n",
    "    id_value = tab_name.get('id')  # id属性の値を取得\n",
    "    print(f\"Code Block {i} - {id_value}:\")\n",
    "    print(code_block.text.strip())  # `.strip()`を追加して余分な空白を削除\n",
    "    print(\"-\" * 80)  # 区切り線を表示\n"
   ],
   "metadata": {
    "collapsed": true
   },
   "id": "initial_id",
   "execution_count": null
  },
  {
   "cell_type": "code",
   "outputs": [],
   "source": [
    "import json\n",
    "import requests\n",
    "\n",
    "# ../data/json/links_data.jsonを読み込み、\n",
    "# links_dataにdict型で格納する\n",
    "with open('../data/json/links_data.json', 'r', encoding='utf-8') as file:\n",
    "    links_data = json.load(file)\n",
    "\n",
    "# links_data.json からkey, value=URLを取り出して、\n",
    "# key + '.html'のファイル名で、../data/html/ に保存する\n",
    "for key, value in links_data.items():\n",
    "    # ファイルパス\n",
    "    file_path = '../data/html/' + key + '.html'\n",
    "    # valueのURLからHTMLを読み込み\n",
    "    html_content = requests.get(value).text\n",
    "    # 読み込んだHTMLをBeautiful Soupで解析して\n",
    "    soup = BeautifulSoup(html_content, 'html.parser')\n",
    "    # ファイルに書き込み\n",
    "    with open(file_path, 'w', encoding='utf-8') as file:\n",
    "        file.write(soup.prettify())\n"
   ],
   "metadata": {
    "collapsed": false,
    "ExecuteTime": {
     "end_time": "2024-01-29T22:47:14.866902Z",
     "start_time": "2024-01-29T22:46:28.069389Z"
    }
   },
   "id": "50fe36344001397f",
   "execution_count": 3
  },
  {
   "cell_type": "code",
   "outputs": [],
   "source": [
    "# div class=\"codeblock\" の取り出したidをコードブロック名として\n",
    "# `<code class=\"code language-python\">`タグに囲まれたブロックを抽出する。\n",
    "# 抽出したブロックを表示する。\n"
   ],
   "metadata": {
    "collapsed": false
   },
   "id": "b36760a18c8deada",
   "execution_count": null
  },
  {
   "cell_type": "code",
   "source": [
    "from bs4 import BeautifulSoup\n",
    "\n",
    "# ファイルパス\n",
    "file_path = '../data/html/slider.html'\n",
    "\n",
    "# ファイルからHTMLを読み込み\n",
    "with open(file_path, 'r', encoding='utf-8') as file:\n",
    "    html_content = file.read()\n",
    "\n",
    "# 読み込んだHTMLをBeautiful Soupで解析\n",
    "soup = BeautifulSoup(html_content, 'html.parser')\n",
    "\n",
    "# すべての`<div class=\"codeblock\">`ブロックを検索\n",
    "codeblock_divs = soup.find_all('div', class_='codeblock')\n",
    "\n",
    "# 各`<div>`ブロックとその中のPythonコードブロックを表示\n",
    "for i, div in enumerate(codeblock_divs, start=1):\n",
    "    # divブロックのidを取得\n",
    "    div_id = div.get('id')\n",
    "    print(f\"Div {i} (ID: {div_id}):\")\n",
    "    \n",
    "    # divブロック内のすべての`<code class=\"code language-python\">`タグに囲まれたコンテンツを抽出\n",
    "    code_blocks = div.find_all('code', class_='code language-python')\n",
    "    \n",
    "    # 抽出したコードブロックを表示\n",
    "    for j, code_block in enumerate(code_blocks, start=1):\n",
    "        print(f\"  Code Block {j}:\")\n",
    "        print(code_block.text.strip())  # `.strip()`を追加して余分な空白を削除\n",
    "        print(\"-\" * 80)  # 区切り線を表示"
   ],
   "metadata": {
    "collapsed": false,
    "ExecuteTime": {
     "end_time": "2024-06-24T05:30:52.000046Z",
     "start_time": "2024-06-24T05:30:51.913876Z"
    }
   },
   "id": "dbdb64a0f66f1741",
   "outputs": [
    {
     "name": "stdout",
     "output_type": "stream",
     "text": [
      "Div 1 (ID: None):\n",
      "Div 2 (ID: None):\n",
      "Div 3 (ID: None):\n"
     ]
    }
   ],
   "execution_count": 1
  },
  {
   "cell_type": "code",
   "outputs": [],
   "source": [],
   "metadata": {
    "collapsed": false
   },
   "id": "80b08d1bfcf2e9ec",
   "execution_count": null
  }
 ],
 "metadata": {
  "kernelspec": {
   "display_name": "Python 3",
   "language": "python",
   "name": "python3"
  },
  "language_info": {
   "codemirror_mode": {
    "name": "ipython",
    "version": 2
   },
   "file_extension": ".py",
   "mimetype": "text/x-python",
   "name": "python",
   "nbconvert_exporter": "python",
   "pygments_lexer": "ipython2",
   "version": "2.7.6"
  }
 },
 "nbformat": 4,
 "nbformat_minor": 5
}
