{
 "cells": [
  {
   "metadata": {},
   "cell_type": "markdown",
   "source": "### meta-llama/Meta-Llama-3-70B",
   "id": "8f6cb45dd0566d2b"
  },
  {
   "metadata": {},
   "cell_type": "code",
   "source": [
    "# from transformers import pipeline\n",
    "# \n",
    "# pipe_70B = pipeline(\"text-generation\", model=\"meta-llama/Meta-Llama-3-70B\")  # Load model directly\n",
    "# from transformers import AutoTokenizer, AutoModelForCausalLM\n",
    "# \n",
    "# tokenizer_70B = AutoTokenizer.from_pretrained(\"meta-llama/Meta-Llama-3-70B\")\n",
    "# model_70B = AutoModelForCausalLM.from_pretrained(\"meta-llama/Meta-Llama-3-70B\")"
   ],
   "id": "73dffe588beafa3e",
   "outputs": [],
   "execution_count": null
  },
  {
   "metadata": {},
   "cell_type": "code",
   "source": [
    "# from transformers import pipeline\n",
    "# \n",
    "# model=\"meta-llama/CodeLlama-7b-Python-hf\"\n",
    "# pipe = pipeline(\"text-generation\", model=model)  # Load model directly\n",
    "# from transformers import AutoTokenizer, AutoModelForCausalLM\n",
    "# \n",
    "# tokenizer = AutoTokenizer.from_pretrained(model)\n",
    "# model = AutoModelForCausalLM.from_pretrained(model)"
   ],
   "id": "acd61883b3826e11",
   "outputs": [],
   "execution_count": null
  },
  {
   "metadata": {
    "ExecuteTime": {
     "end_time": "2024-07-01T05:55:44.179303Z",
     "start_time": "2024-07-01T05:55:39.806734Z"
    }
   },
   "cell_type": "code",
   "source": "!pip install transformers torch bitsandbytes",
   "id": "27db99f1c3da3e19",
   "outputs": [
    {
     "name": "stderr",
     "output_type": "stream",
     "text": [
      "huggingface/tokenizers: The current process just got forked, after parallelism has already been used. Disabling parallelism to avoid deadlocks...\n",
      "To disable this warning, you can either:\n",
      "\t- Avoid using `tokenizers` before the fork if possible\n",
      "\t- Explicitly set the environment variable TOKENIZERS_PARALLELISM=(true | false)\n"
     ]
    },
    {
     "name": "stdout",
     "output_type": "stream",
     "text": [
      "Requirement already satisfied: transformers in /Users/nakashima_toshio/PycharmProjects/gpt4all_langchain_fastapi_gradio/venv/lib/python3.11/site-packages (4.42.1)\r\n",
      "Requirement already satisfied: torch in /Users/nakashima_toshio/PycharmProjects/gpt4all_langchain_fastapi_gradio/venv/lib/python3.11/site-packages (2.3.1)\r\n",
      "Collecting bitsandbytes\r\n",
      "  Downloading bitsandbytes-0.42.0-py3-none-any.whl.metadata (9.9 kB)\r\n",
      "Requirement already satisfied: filelock in /Users/nakashima_toshio/PycharmProjects/gpt4all_langchain_fastapi_gradio/venv/lib/python3.11/site-packages (from transformers) (3.15.4)\r\n",
      "Requirement already satisfied: huggingface-hub<1.0,>=0.23.2 in /Users/nakashima_toshio/PycharmProjects/gpt4all_langchain_fastapi_gradio/venv/lib/python3.11/site-packages (from transformers) (0.23.4)\r\n",
      "Requirement already satisfied: numpy<2.0,>=1.17 in /Users/nakashima_toshio/PycharmProjects/gpt4all_langchain_fastapi_gradio/venv/lib/python3.11/site-packages (from transformers) (1.26.4)\r\n",
      "Requirement already satisfied: packaging>=20.0 in /Users/nakashima_toshio/PycharmProjects/gpt4all_langchain_fastapi_gradio/venv/lib/python3.11/site-packages (from transformers) (24.1)\r\n",
      "Requirement already satisfied: pyyaml>=5.1 in /Users/nakashima_toshio/PycharmProjects/gpt4all_langchain_fastapi_gradio/venv/lib/python3.11/site-packages (from transformers) (6.0.1)\r\n",
      "Requirement already satisfied: regex!=2019.12.17 in /Users/nakashima_toshio/PycharmProjects/gpt4all_langchain_fastapi_gradio/venv/lib/python3.11/site-packages (from transformers) (2024.5.15)\r\n",
      "Requirement already satisfied: requests in /Users/nakashima_toshio/PycharmProjects/gpt4all_langchain_fastapi_gradio/venv/lib/python3.11/site-packages (from transformers) (2.32.3)\r\n",
      "Requirement already satisfied: tokenizers<0.20,>=0.19 in /Users/nakashima_toshio/PycharmProjects/gpt4all_langchain_fastapi_gradio/venv/lib/python3.11/site-packages (from transformers) (0.19.1)\r\n",
      "Requirement already satisfied: safetensors>=0.4.1 in /Users/nakashima_toshio/PycharmProjects/gpt4all_langchain_fastapi_gradio/venv/lib/python3.11/site-packages (from transformers) (0.4.3)\r\n",
      "Requirement already satisfied: tqdm>=4.27 in /Users/nakashima_toshio/PycharmProjects/gpt4all_langchain_fastapi_gradio/venv/lib/python3.11/site-packages (from transformers) (4.66.4)\r\n",
      "Requirement already satisfied: typing-extensions>=4.8.0 in /Users/nakashima_toshio/PycharmProjects/gpt4all_langchain_fastapi_gradio/venv/lib/python3.11/site-packages (from torch) (4.12.2)\r\n",
      "Requirement already satisfied: sympy in /Users/nakashima_toshio/PycharmProjects/gpt4all_langchain_fastapi_gradio/venv/lib/python3.11/site-packages (from torch) (1.12.1)\r\n",
      "Requirement already satisfied: networkx in /Users/nakashima_toshio/PycharmProjects/gpt4all_langchain_fastapi_gradio/venv/lib/python3.11/site-packages (from torch) (3.3)\r\n",
      "Requirement already satisfied: jinja2 in /Users/nakashima_toshio/PycharmProjects/gpt4all_langchain_fastapi_gradio/venv/lib/python3.11/site-packages (from torch) (3.1.4)\r\n",
      "Requirement already satisfied: fsspec in /Users/nakashima_toshio/PycharmProjects/gpt4all_langchain_fastapi_gradio/venv/lib/python3.11/site-packages (from torch) (2024.5.0)\r\n",
      "Requirement already satisfied: scipy in /Users/nakashima_toshio/PycharmProjects/gpt4all_langchain_fastapi_gradio/venv/lib/python3.11/site-packages (from bitsandbytes) (1.14.0)\r\n",
      "Requirement already satisfied: MarkupSafe>=2.0 in /Users/nakashima_toshio/PycharmProjects/gpt4all_langchain_fastapi_gradio/venv/lib/python3.11/site-packages (from jinja2->torch) (2.1.5)\r\n",
      "Requirement already satisfied: charset-normalizer<4,>=2 in /Users/nakashima_toshio/PycharmProjects/gpt4all_langchain_fastapi_gradio/venv/lib/python3.11/site-packages (from requests->transformers) (3.3.2)\r\n",
      "Requirement already satisfied: idna<4,>=2.5 in /Users/nakashima_toshio/PycharmProjects/gpt4all_langchain_fastapi_gradio/venv/lib/python3.11/site-packages (from requests->transformers) (3.7)\r\n",
      "Requirement already satisfied: urllib3<3,>=1.21.1 in /Users/nakashima_toshio/PycharmProjects/gpt4all_langchain_fastapi_gradio/venv/lib/python3.11/site-packages (from requests->transformers) (2.2.2)\r\n",
      "Requirement already satisfied: certifi>=2017.4.17 in /Users/nakashima_toshio/PycharmProjects/gpt4all_langchain_fastapi_gradio/venv/lib/python3.11/site-packages (from requests->transformers) (2024.6.2)\r\n",
      "Requirement already satisfied: mpmath<1.4.0,>=1.1.0 in /Users/nakashima_toshio/PycharmProjects/gpt4all_langchain_fastapi_gradio/venv/lib/python3.11/site-packages (from sympy->torch) (1.3.0)\r\n",
      "Downloading bitsandbytes-0.42.0-py3-none-any.whl (105.0 MB)\r\n",
      "\u001B[2K   \u001B[90m━━━━━━━━━━━━━━━━━━━━━━━━━━━━━━━━━━━━━━━━\u001B[0m \u001B[32m105.0/105.0 MB\u001B[0m \u001B[31m31.6 MB/s\u001B[0m eta \u001B[36m0:00:00\u001B[0m00:01\u001B[0m00:01\u001B[0m\r\n",
      "\u001B[?25hInstalling collected packages: bitsandbytes\r\n",
      "Successfully installed bitsandbytes-0.42.0\r\n"
     ]
    }
   ],
   "execution_count": 7
  },
  {
   "metadata": {},
   "cell_type": "code",
   "outputs": [],
   "execution_count": null,
   "source": "# huggingface-cli download meta-llama/Meta-Llama-3-8B --include \"original/*\" --local-dir Meta-Llama-3-8B\n",
   "id": "9c0f4f89c2b1163e"
  },
  {
   "metadata": {},
   "cell_type": "code",
   "source": [
    "import torch\n",
    "from transformers import AutoTokenizer, AutoModelForCausalLM, pipeline\n",
    "import gc\n",
    "\n",
    "print(f\"PyTorch version: {torch.__version__}\")\n",
    "print(\"Using CPU for inference\")\n",
    "\n",
    "def setup_model(model_name):\n",
    "    try:\n",
    "        # トークナイザーの初期化\n",
    "        tokenizer = AutoTokenizer.from_pretrained(model_name)\n",
    "\n",
    "        # モデルの初期化（量子化なし）\n",
    "        model = AutoModelForCausalLM.from_pretrained(\n",
    "            model_name,\n",
    "            # use_auth_token=token,\n",
    "        )\n",
    "\n",
    "        # pipelineの作成\n",
    "        pipe = pipeline(\n",
    "            \"text-generation\",\n",
    "            model=model,\n",
    "            tokenizer=tokenizer,\n",
    "            device=-1,  # CPUを使用\n",
    "        )\n",
    "\n",
    "        return pipe, tokenizer, model\n",
    "    except Exception as e:\n",
    "        print(f\"モデルのセットアップ中にエラーが発生しました: {e}\")\n",
    "        raise\n",
    "\n",
    "def generate_code(pipe, prompt, max_new_tokens=200):\n",
    "    try:\n",
    "        full_prompt = f\"Human: Write Python code for the following task. Provide detailed comments and error handling where appropriate: {prompt}\\n\\nAssistant: Certainly! Here's the Python code for the task you described, including detailed comments and error handling:\\n\\n```python\\n\"\n",
    "        generated_text = pipe(\n",
    "            full_prompt, \n",
    "            max_new_tokens=max_new_tokens, \n",
    "            num_return_sequences=1,\n",
    "            do_sample=True,\n",
    "            temperature=0.7,\n",
    "            top_p=0.95,\n",
    "            repetition_penalty=1.1\n",
    "        )\n",
    "        return generated_text[0]['generated_text'].split(\"```python\\n\")[-1].split(\"```\")[0].strip()\n",
    "    except Exception as e:\n",
    "        print(f\"エラーが発生しました: {e}\")\n",
    "        return None\n",
    "\n",
    "def main():\n",
    "    # model_name = \"meta-llama/CodeLlama-7b-Python-hf\"\n",
    "    model_name=\"meta-llama/Meta-Llama-3-8B\"\n",
    "    try:\n",
    "        pipe, tokenizer, model = setup_model(model_name)\n",
    "    except Exception as e:\n",
    "        print(f\"プログラムを終了します: {e}\")\n",
    "        return\n",
    "\n",
    "    while True:\n",
    "        prompt = input(\"Pythonコードの生成プロンプトを入力してください（終了するには 'quit' と入力）: \")\n",
    "        if prompt.lower() == 'quit':\n",
    "            break\n",
    "        \n",
    "        generated_code = generate_code(pipe, prompt)\n",
    "        if generated_code:\n",
    "            print(\"\\n生成されたコード:\")\n",
    "            print(generated_code)\n",
    "        print(\"\\n\")\n",
    "        \n",
    "        # メモリ解放\n",
    "        gc.collect()\n",
    "\n",
    "if __name__ == \"__main__\":\n",
    "    main()\n"
   ],
   "id": "4d039e6517c1eb1",
   "outputs": [],
   "execution_count": null
  },
  {
   "metadata": {},
   "cell_type": "code",
   "outputs": [],
   "execution_count": null,
   "source": "",
   "id": "2c64bafed30974e9"
  }
 ],
 "metadata": {
  "kernelspec": {
   "display_name": "Python 3",
   "language": "python",
   "name": "python3"
  },
  "language_info": {
   "codemirror_mode": {
    "name": "ipython",
    "version": 2
   },
   "file_extension": ".py",
   "mimetype": "text/x-python",
   "name": "python",
   "nbconvert_exporter": "python",
   "pygments_lexer": "ipython2",
   "version": "2.7.6"
  }
 },
 "nbformat": 4,
 "nbformat_minor": 5
}
