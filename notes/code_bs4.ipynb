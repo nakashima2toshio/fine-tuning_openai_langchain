{
 "cells": [
  {
   "cell_type": "markdown",
   "source": [
    "### codeの取り出し"
   ],
   "metadata": {
    "collapsed": false
   },
   "id": "9753052a44f21ff4"
  },
  {
   "cell_type": "code",
   "source": [
    "from pathlib import Path\n",
    "from urllib.parse import urlparse\n",
    "# links_data.json\n",
    "import json\n",
    "import os\n",
    "\n",
    "from bs4 import BeautifulSoup\n",
    "\n",
    "\n",
    "class CrawlPythonCodeFromHTML:\n",
    "    def __init__(self):\n",
    "        self.html_directory = os.path.join(os.getcwd(), './html')\n",
    "        self.html_files = {}\n",
    "        self.html_root = {}\n",
    "        self.html_dirs = {}\n",
    "        self.python_code_json = dict()\n",
    "        self.function_url_json = os.path.join(os.getcwd(), '../data/json/function_url.json')\n",
    "    \n",
    "    def first_letter_upper(self, text: str) -> str:\n",
    "        if text:\n",
    "            return text[0].upper() + text[1:]\n",
    "        return text\n",
    "    \n",
    "    def crawl(self):\n",
    "        for h_root, h_dirs, h_files in os.walk(self.html_directory):\n",
    "            self.html_root = h_root\n",
    "            self.html_dirs = h_dirs\n",
    "            self.html_files = h_files\n",
    "        count = 1\n",
    "        for html_file in self.html_files:\n",
    "            html_filename = os.path.join(self.html_root, html_file)\n",
    "            with open(html_filename, 'r') as f:\n",
    "                html_content = f.read()\n",
    "                soup = BeautifulSoup(html_content, 'html.parser')\n",
    "            \n",
    "            div_class = \"codeblock\"  # 抽出したいdivのクラス名\n",
    "            divs = soup.find_all(\"div\", {\"class\": div_class})\n",
    "            for div_codeblock in divs:\n",
    "                # <code class=\"language-python\">タグを探して内容を取得\n",
    "                code_blocks = div_codeblock.find_all('code', {'class': 'language-python'})\n",
    "                count = count + 1\n",
    "                for code_block in code_blocks:\n",
    "                    code_text = code_block.get_text()\n",
    "                    basename = Path(html_file).stem\n",
    "                    print(f'[{div_codeblock}] ------> \\n')\n",
    "                    print(f'[{basename}] ----------\\n{code_text}')\n",
    "            \n",
    "if __name__ == '__main__':\n",
    "    instance = CrawlPythonCodeFromHTML()\n",
    "    instance.crawl()\n",
    "            "
   ],
   "metadata": {
    "collapsed": false
   },
   "id": "be6649d2825819a0",
   "outputs": [],
   "execution_count": null
  },
  {
   "metadata": {},
   "cell_type": "code",
   "outputs": [],
   "execution_count": null,
   "source": "",
   "id": "c4ebd55802ebbd0b"
  }
 ],
 "metadata": {
  "kernelspec": {
   "display_name": "Python 3",
   "language": "python",
   "name": "python3"
  },
  "language_info": {
   "codemirror_mode": {
    "name": "ipython",
    "version": 2
   },
   "file_extension": ".py",
   "mimetype": "text/x-python",
   "name": "python",
   "nbconvert_exporter": "python",
   "pygments_lexer": "ipython2",
   "version": "2.7.6"
  }
 },
 "nbformat": 4,
 "nbformat_minor": 5
}
